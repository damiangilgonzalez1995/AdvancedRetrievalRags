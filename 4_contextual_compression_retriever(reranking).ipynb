{
 "cells": [
  {
   "cell_type": "code",
   "execution_count": 21,
   "metadata": {},
   "outputs": [],
   "source": [
    "from langchain_community.vectorstores import Chroma\n",
    "from langchain_openai import OpenAIEmbeddings\n",
    "import os\n",
    "import pprint\n",
    "from dotenv import load_dotenv\n",
    "load_dotenv()\n",
    "\n",
    "\n",
    "os.environ[\"OPENAI_API_KEY\"] = os.getenv('OPENAI_KEY')\n",
    "embeddings = OpenAIEmbeddings(model=\"text-embedding-3-small\")\n",
    "\n",
    "vectordb = Chroma(persist_directory=\"./jonhWick_db\", embedding_function=embeddings, collection_name=\"doc_jonhWick\")\n"
   ]
  },
  {
   "cell_type": "markdown",
   "metadata": {},
   "source": [
    "## To create a compression retriever, we need a base retriever first. In this case I will use the naive retriever (the simplest)"
   ]
  },
  {
   "cell_type": "code",
   "execution_count": 23,
   "metadata": {},
   "outputs": [],
   "source": [
    "naive_retriever = vectordb.as_retriever(search_kwargs={ \"k\" : 10})"
   ]
  },
  {
   "cell_type": "code",
   "execution_count": 33,
   "metadata": {},
   "outputs": [],
   "source": [
    "from langchain.retrievers.contextual_compression import ContextualCompressionRetriever\n",
    "from langchain_cohere import CohereRerank\n",
    "\n",
    "os.environ[\"COHERE_API_KEY\"] = os.getenv('COHERE_API_KEY')\n",
    "\n",
    "compressor = CohereRerank(top_n=3)\n",
    "compression_retriever = ContextualCompressionRetriever(\n",
    "    base_compressor=compressor, \n",
    "    base_retriever=naive_retriever\n",
    ")"
   ]
  },
  {
   "cell_type": "markdown",
   "metadata": {},
   "source": [
    "## We are going to do a Naive RAG.\n",
    "\n",
    "## Remember:\n",
    "\n",
    "- R -> Retrieval\n",
    "- A -> Augmented\n",
    "- G -> Generation"
   ]
  },
  {
   "cell_type": "markdown",
   "metadata": {},
   "source": [
    "# Retrieval"
   ]
  },
  {
   "cell_type": "code",
   "execution_count": 25,
   "metadata": {},
   "outputs": [
    {
     "data": {
      "text/plain": [
       "ContextualCompressionRetriever(base_compressor=CohereRerank(client=<cohere.client.Client object at 0x00000170F2ADD570>, top_n=3, model='rerank-english-v2.0', cohere_api_key=None, user_agent='langchain'), base_retriever=VectorStoreRetriever(tags=['Chroma', 'OpenAIEmbeddings'], vectorstore=<langchain_community.vectorstores.chroma.Chroma object at 0x00000170F05C9060>, search_kwargs={'k': 10}))"
      ]
     },
     "execution_count": 25,
     "metadata": {},
     "output_type": "execute_result"
    }
   ],
   "source": [
    "# We have already created the retriever object\n",
    "compression_retriever"
   ]
  },
  {
   "cell_type": "markdown",
   "metadata": {},
   "source": [
    "# Augmented"
   ]
  },
  {
   "cell_type": "code",
   "execution_count": 26,
   "metadata": {},
   "outputs": [],
   "source": [
    "from langchain_core.prompts import ChatPromptTemplate\n",
    "\n",
    "TEMPLATE = \"\"\"\\\n",
    "You are happy assistant. Use the context provided below to answer the question.\n",
    "\n",
    "If you do not know the answer, or are unsure, say you don't know.\n",
    "\n",
    "Query:\n",
    "{question}\n",
    "\n",
    "Context:\n",
    "{context}\n",
    "\"\"\"\n",
    "\n",
    "rag_prompt = ChatPromptTemplate.from_template(TEMPLATE)"
   ]
  },
  {
   "cell_type": "markdown",
   "metadata": {},
   "source": [
    "# Generation"
   ]
  },
  {
   "cell_type": "code",
   "execution_count": 27,
   "metadata": {},
   "outputs": [],
   "source": [
    "from langchain_openai import ChatOpenAI\n",
    "\n",
    "chat_model = ChatOpenAI()"
   ]
  },
  {
   "cell_type": "markdown",
   "metadata": {},
   "source": [
    "## Finally, we are going to create a Reranking Retrieval. For that, we are going to use LCEL (LangChain Expression Language)"
   ]
  },
  {
   "cell_type": "code",
   "execution_count": 28,
   "metadata": {},
   "outputs": [
    {
     "name": "stdout",
     "output_type": "stream",
     "text": [
      "\u001b[32;1m\u001b[1;3m[chain/start]\u001b[0m \u001b[1m[1:chain:RunnableSequence] Entering Chain run with input:\n",
      "\u001b[0m{\n",
      "  \"input\": \"Did people generally like John Wick?\"\n",
      "}\n",
      "\u001b[32;1m\u001b[1;3m[chain/start]\u001b[0m \u001b[1m[1:chain:RunnableSequence > 2:chain:RunnableParallel<question,context>] Entering Chain run with input:\n",
      "\u001b[0m{\n",
      "  \"input\": \"Did people generally like John Wick?\"\n",
      "}\n",
      "\u001b[32;1m\u001b[1;3m[chain/start]\u001b[0m \u001b[1m[1:chain:RunnableSequence > 2:chain:RunnableParallel<question,context> > 3:chain:RunnablePassthrough] Entering Chain run with input:\n",
      "\u001b[0m{\n",
      "  \"input\": \"Did people generally like John Wick?\"\n",
      "}\n",
      "\u001b[36;1m\u001b[1;3m[chain/end]\u001b[0m \u001b[1m[1:chain:RunnableSequence > 2:chain:RunnableParallel<question,context> > 3:chain:RunnablePassthrough] [1ms] Exiting Chain run with output:\n",
      "\u001b[0m{\n",
      "  \"output\": \"Did people generally like John Wick?\"\n",
      "}\n",
      "\u001b[36;1m\u001b[1;3m[chain/end]\u001b[0m \u001b[1m[1:chain:RunnableSequence > 2:chain:RunnableParallel<question,context>] [1.33s] Exiting Chain run with output:\n",
      "\u001b[0m[outputs]\n",
      "\u001b[32;1m\u001b[1;3m[chain/start]\u001b[0m \u001b[1m[1:chain:RunnableSequence > 6:prompt:ChatPromptTemplate] Entering Prompt run with input:\n",
      "\u001b[0m[inputs]\n",
      "\u001b[36;1m\u001b[1;3m[chain/end]\u001b[0m \u001b[1m[1:chain:RunnableSequence > 6:prompt:ChatPromptTemplate] [0ms] Exiting Prompt run with output:\n",
      "\u001b[0m[outputs]\n",
      "\u001b[32;1m\u001b[1;3m[llm/start]\u001b[0m \u001b[1m[1:chain:RunnableSequence > 7:llm:ChatOpenAI] Entering LLM run with input:\n",
      "\u001b[0m{\n",
      "  \"prompts\": [\n",
      "    \"Human: You are happy assistant. Use the context provided below to answer the question.\\n\\nIf you do not know the answer, or are unsure, say you don't know.\\n\\nQuery:\\nDid people generally like John Wick?\\n\\nContext:\\n[Document(page_content=\\\": 6\\\\nReview: In 2014, a Keanu Reeves revenge thriller John Wick became a surprise hit. I originally skipped out on the film as I felt that the trailers only showed an assassin story that I felt I've seen before. As far as I'm concerned, I made a big mistake. Before seeing the sequel, I felt it was important to watch the first one. I rented it on Amazon Prime and I was shock by what I saw; a dark, stylish, and fun action movie that is doing it's own thing. Though I've seen plenty stories about revenge (The Count of Monte Cristo and Moby Dick being the prime examples), I can't recall one over someone's pet being murdered.\\\", metadata={'Author': 'RforFilm', 'Movie_Title': 'John Wick 2', 'Rating': 8, 'Review_Date': '14 February 2017', 'Review_Title': \\\" John Wick: Chapter 2 continues it's faced paced, neo-noir story of our assassin\\\\n\\\", 'Review_Url': '/review/rw3639868/?ref_=tt_urv', 'row': 6, 'source': 'data/john_wick_2.csv', 'relevance_score': 0.906322}), Document(page_content=': 19\\\\nReview: I really don\\\\'t understand the love that \\\"John Wick\\\" receives. It\\\\'s just kind of a generic action thriller to me. No different than a \\\"Bourne\\\" or \\\"Taken\\\" movie. It gets a slight bump for me in a rating of 6 instead of 5 because I did think that the cinematography was really good and also the fight choreography was top notch. I can definitely see the influence of martial arts films on this.', metadata={'Author': 'xiaoli7377', 'Movie_Title': 'John Wick 1', 'Rating': 6, 'Review_Date': '14 April 2023', 'Review_Title': \\\" I Don't Get It\\\\n\\\", 'Review_Url': '/review/rw8991670/?ref_=tt_urv', 'row': 19, 'source': 'data/john_wick_1.csv', 'relevance_score': 0.86993575}), Document(page_content=\\\": 20\\\\nReview: John Wick is something special. It takes as much time setting up elaborate action sequences as it does the world with which it all takes place in. And what a world it is. It reminds me of Millers Crossing and it is cooler than any other recent attempt at noir. We are shown a criminal underworld where, if you are connected, many powerful people know who you are and show you respect. John Wick was connected but he got out. He is the rare killer who has found peace, and he is grateful for that peace. Some young kids steal that from him and he does what he does best, he wages a one man war against the Russian Mafia. It might sound like the film takes quite a leap but it all makes sense. The motives of John and the people who get in the way of his bullets are all very clear, even if it does come across as rather simple. That's the plot at it's most basic. Then there's the action. The film is directed by Reeve's stuntman from The Matrix, so this guy knows action. There are sequences that flow so smoothly it puts other action films and their quick cuts to shame. Keaunu moves so fluidly throughout the film and comes across as such a natural that the only disappointment is that we have not seen him like this before. Along the way are plenty of character actors, fans of The Matrix and The Wire will recognize a few people then there are more obvious ones like Ian McShane and Willem Dafoe. Everyone seems to be having a good time. That is another plus for this movie. It get's dark at times but overall it is quite fun, not very chipper, but fun. I cannot recommend this movie enough. I believe it is a must see for action fans and for anyone looking for something a bit different from the usual fare.\\\", metadata={'Author': 'IceSkateUpHill', 'Movie_Title': 'John Wick 1', 'Rating': 10, 'Review_Date': '22 October 2014', 'Review_Title': ' Smoothest action film to come around in a long time\\\\n', 'Review_Url': '/review/rw3109271/?ref_=tt_urv', 'row': 20, 'source': 'data/john_wick_1.csv', 'relevance_score': 0.8609547})]\"\n",
      "  ]\n",
      "}\n",
      "\u001b[36;1m\u001b[1;3m[llm/end]\u001b[0m \u001b[1m[1:chain:RunnableSequence > 7:llm:ChatOpenAI] [657ms] Exiting LLM run with output:\n",
      "\u001b[0m{\n",
      "  \"generations\": [\n",
      "    [\n",
      "      {\n",
      "        \"text\": \"Yes, people generally liked John Wick.\",\n",
      "        \"generation_info\": {\n",
      "          \"finish_reason\": \"stop\",\n",
      "          \"logprobs\": null\n",
      "        },\n",
      "        \"type\": \"ChatGeneration\",\n",
      "        \"message\": {\n",
      "          \"lc\": 1,\n",
      "          \"type\": \"constructor\",\n",
      "          \"id\": [\n",
      "            \"langchain\",\n",
      "            \"schema\",\n",
      "            \"messages\",\n",
      "            \"AIMessage\"\n",
      "          ],\n",
      "          \"kwargs\": {\n",
      "            \"content\": \"Yes, people generally liked John Wick.\",\n",
      "            \"additional_kwargs\": {},\n",
      "            \"name\": null,\n",
      "            \"id\": \"run-44d134dc-1ce2-42aa-84ba-ec1078ec97bb-0\"\n",
      "          }\n",
      "        }\n",
      "      }\n",
      "    ]\n",
      "  ],\n",
      "  \"llm_output\": {\n",
      "    \"token_usage\": {\n",
      "      \"completion_tokens\": 8,\n",
      "      \"prompt_tokens\": 1010,\n",
      "      \"total_tokens\": 1018\n",
      "    },\n",
      "    \"model_name\": \"gpt-3.5-turbo\",\n",
      "    \"system_fingerprint\": \"fp_c2295e73ad\"\n",
      "  },\n",
      "  \"run\": null\n",
      "}\n",
      "\u001b[32;1m\u001b[1;3m[chain/start]\u001b[0m \u001b[1m[1:chain:RunnableSequence > 8:parser:StrOutputParser] Entering Parser run with input:\n",
      "\u001b[0m[inputs]\n",
      "\u001b[36;1m\u001b[1;3m[chain/end]\u001b[0m \u001b[1m[1:chain:RunnableSequence > 8:parser:StrOutputParser] [0ms] Exiting Parser run with output:\n",
      "\u001b[0m{\n",
      "  \"output\": \"Yes, people generally liked John Wick.\"\n",
      "}\n",
      "\u001b[36;1m\u001b[1;3m[chain/end]\u001b[0m \u001b[1m[1:chain:RunnableSequence] [1.99s] Exiting Chain run with output:\n",
      "\u001b[0m{\n",
      "  \"output\": \"Yes, people generally liked John Wick.\"\n",
      "}\n"
     ]
    },
    {
     "data": {
      "text/plain": [
       "'Yes, people generally liked John Wick.'"
      ]
     },
     "execution_count": 28,
     "metadata": {},
     "output_type": "execute_result"
    }
   ],
   "source": [
    "from langchain_core.runnables import RunnablePassthrough, RunnableParallel\n",
    "from operator import itemgetter\n",
    "from langchain_core.output_parsers import StrOutputParser\n",
    "\n",
    "setup_and_retrieval = RunnableParallel({\"question\": RunnablePassthrough(), \"context\": compression_retriever })\n",
    "output_parser = StrOutputParser()\n",
    "\n",
    "\n",
    "compressor_retrieval_chain = setup_and_retrieval | rag_prompt | chat_model | output_parser\n",
    "\n",
    "\n",
    "compressor_retrieval_chain.invoke( \"Did people generally like John Wick?\")"
   ]
  },
  {
   "cell_type": "markdown",
   "metadata": {},
   "source": [
    "### Naive retriever VS Contextual Compression Retriever"
   ]
  },
  {
   "cell_type": "code",
   "execution_count": 38,
   "metadata": {},
   "outputs": [
    {
     "data": {
      "text/plain": [
       "[Document(page_content=': 12\\nReview: The only word that keeps coming back to mind when reviewing this movie is: exhilarating. The fun factor this amazing action film has is probably the highest of any movie this year. I could not stop myself from having a blast!', metadata={'Author': 'Giacomo_De_Bello', 'Movie_Title': 'John Wick 1', 'Rating': 8, 'Review_Date': '23 January 2015', 'Review_Title': ' 8/10\\n', 'Review_Url': '/review/rw3168672/?ref_=tt_urv', 'row': 12, 'source': 'data/john_wick_1.csv'}),\n",
       " Document(page_content=\": 8\\nReview: It's hard to find anything bad to say about John Wick. The action is beautifully choreographed, the setup is surprisingly emotional for an action flick, and Keanu.... What more is there to say? If you love action or even just like it you will be in for the ride of your life.\", metadata={'Author': 'MrHeraclius', 'Movie_Title': 'John Wick 1', 'Rating': 5, 'Review_Date': '23 February 2020', 'Review_Title': ' love this movie highly recommend\\n', 'Review_Url': '/review/rw5503708/?ref_=tt_urv', 'row': 8, 'source': 'data/john_wick_1.csv'}),\n",
       " Document(page_content=\": 16\\nReview: John Wick 3 is without a doubt the best action movie to have come out in a few years. And its so surprising and refreshing to see that movies like this still exist. Most action movies you see is filled with ridiculous amounts of shaky-cam, fast edits and way over-the-top fights. This is perfect. You can see all action clear as day, and by god the stuns in this film are extraordinary. Why the Academy Awards don't award talent like this is beyond me. There were times that I wondered if they had used CGI, because someone nuts must be willing to throw themselves from motorbikes and through glass. But whatever case it is, its a dam joy to watch.\", metadata={'Author': 'Dannyboi94', 'Movie_Title': 'John Wick 3', 'Rating': 8, 'Review_Date': '16 May 2019', 'Review_Title': \" Finally an action franchise than doesn't lose its touch!\\n\", 'Review_Url': '/review/rw4858493/?ref_=tt_urv', 'row': 16, 'source': 'data/john_wick_3.csv'}),\n",
       " Document(page_content=': 19\\nReview: The inevitable third chapter of the JOHN WICK franchise continues on a high with the same quality as the last. In fact, this may just pip that one to the post to be the best JOHN WICK yet. The pacing is spot on and the plotting is measured by a huge amount of action sequences, all of which fizz and crackle with skill and energy. The movie hits the ground running as Keanu faces off with a hulking character in a library and then Triads in a weapon shop, but what really amazes here is the sheer inventiveness of the non-repetitive action. There are horse and motorbike chases, a Moroccan brawl with fighting dogs, alongside the massive action of the climax. There also seems to be a greater emphasis on hand-to-hand combat, featuring the likes of RAID actors and old-timer Mark Dacascos, which is a real pleasure as the choreography is top-notch. In terms of sheer enjoyment, this is a film hard to beat, and to criticise it at all is unnecessary. Bring on the fourth!', metadata={'Author': 'Leofwine_draca', 'Movie_Title': 'John Wick 3', 'Rating': 9, 'Review_Date': '22 September 2019', 'Review_Title': ' Sheer enjoyment\\n', 'Review_Url': '/review/rw5135863/?ref_=tt_urv', 'row': 19, 'source': 'data/john_wick_3.csv'}),\n",
       " Document(page_content=\": 1\\nReview: I'm a fan of the John Wick films. The action sequences are of the highest order and there is quite a bit that feels unique in each action scene. By half way through JW3I started to long for a plot line or a human relationship. There needs to be more to a movie than just fighting.\", metadata={'Author': 'benxrichardson', 'Movie_Title': 'John Wick 3', 'Rating': 6, 'Review_Date': '21 October 2021', 'Review_Title': ' Starting to test the friendship\\n', 'Review_Url': '/review/rw7466057/?ref_=tt_urv', 'row': 1, 'source': 'data/john_wick_3.csv'}),\n",
       " Document(page_content=\": 7\\nReview: About mid-way through the film, after about 100 people had been shot, stabbed, strangled, or otherwise dispatched I started to yawn. Seriously! Is this a film or a video game? On the positive side, it was better than Chapter 2 which is equivalent to being healthier than a leper. Chapter 3 is already advertising Chapter 4 and we can only hope that we'll have stronger characters and a better plot.\", metadata={'Author': 'drjgardner', 'Movie_Title': 'John Wick 3', 'Rating': 4, 'Review_Date': '18 May 2019', 'Review_Title': ' Less is more\\n', 'Review_Url': '/review/rw4862630/?ref_=tt_urv', 'row': 7, 'source': 'data/john_wick_3.csv'}),\n",
       " Document(page_content=': 21\\nReview: Wow, this is one of the best action movies that I have seen in quite some time. It is really what I was hoping for in a good old fashion action movie that was done entirely on hand to hand combat and gun shootings. This is a wonderful kick-ass movie where the killings were done so brutally with lots of bloody scenes. It also kind of remind me of the various one man army movies in the 80s played by Sylvester Stallone or Arnold Schwarzenegger. If you have seen John Wick the original (which I hope you have seen it before you see this one), then you will be amazed with this sequel. It was bloodier, more fighting, more assassins trying to kill John and longer running time. What I can say is this is an even better version than the original movie. Although in term of story, there is a bit of a more complexity in the sequel as opposed to the simplicity of the original movie.', metadata={'Author': 'MichaelNontonMulu', 'Movie_Title': 'John Wick 2', 'Rating': 9, 'Review_Date': '8 February 2017', 'Review_Title': ' Great Action Movie!\\n', 'Review_Url': '/review/rw3635784/?ref_=tt_urv', 'row': 21, 'source': 'data/john_wick_2.csv'}),\n",
       " Document(page_content=\": 6\\nReview: John Wick is one of those few movies a year that seemed like it would be absolutely terrible, but when you finally sit down and watch it, turns out to be incredible. Not only is it one of the most fun films of the year, but it's so much different than the action films we have today. It doesn't try to be inventive or over-the-top, it just plays to it's strengths.\", metadata={'Author': 'ThomasDrufke', 'Movie_Title': 'John Wick 1', 'Rating': 8, 'Review_Date': '24 February 2015', 'Review_Title': \" I'm Thinking I'm Back\\n\", 'Review_Url': '/review/rw3191151/?ref_=tt_urv', 'row': 6, 'source': 'data/john_wick_1.csv'}),\n",
       " Document(page_content=\": 23\\nReview: Rating 10/10\\nI was able to catch an advanced screening of this movie on 13th of may 2019. One words i can say here is 'amazing' yes ... this movie so amazing !! One of the best action movie i ever seen. All the fighting scenes were choreographed wonderfully according to my opinion. Excellent acting performance by Keanu Reeves a.k.a John Wick. The guns shooting scenes were entirely cool. I would recommend this movie to any fans of action movie. You won't find a better movie of this type in the theatre right now and for the fans out there who appreciate this material, it will provide a memorable experience. Go see it you wont regret it.\", metadata={'Author': 'ymyuseda', 'Movie_Title': 'John Wick 3', 'Rating': 10, 'Review_Date': '15 May 2019', 'Review_Title': ' A Masterpiece & Brilliant Sequel\\n', 'Review_Url': '/review/rw4854296/?ref_=tt_urv', 'row': 23, 'source': 'data/john_wick_3.csv'}),\n",
       " Document(page_content=': 19\\nReview: I really don\\'t understand the love that \"John Wick\" receives. It\\'s just kind of a generic action thriller to me. No different than a \"Bourne\" or \"Taken\" movie. It gets a slight bump for me in a rating of 6 instead of 5 because I did think that the cinematography was really good and also the fight choreography was top notch. I can definitely see the influence of martial arts films on this.', metadata={'Author': 'xiaoli7377', 'Movie_Title': 'John Wick 1', 'Rating': 6, 'Review_Date': '14 April 2023', 'Review_Title': \" I Don't Get It\\n\", 'Review_Url': '/review/rw8991670/?ref_=tt_urv', 'row': 19, 'source': 'data/john_wick_1.csv'})]"
      ]
     },
     "execution_count": 38,
     "metadata": {},
     "output_type": "execute_result"
    }
   ],
   "source": [
    "naive_retriever.invoke(\"What are the most positive reviews?\")"
   ]
  },
  {
   "cell_type": "code",
   "execution_count": 39,
   "metadata": {},
   "outputs": [
    {
     "data": {
      "text/plain": [
       "[Document(page_content=\": 16\\nReview: John Wick 3 is without a doubt the best action movie to have come out in a few years. And its so surprising and refreshing to see that movies like this still exist. Most action movies you see is filled with ridiculous amounts of shaky-cam, fast edits and way over-the-top fights. This is perfect. You can see all action clear as day, and by god the stuns in this film are extraordinary. Why the Academy Awards don't award talent like this is beyond me. There were times that I wondered if they had used CGI, because someone nuts must be willing to throw themselves from motorbikes and through glass. But whatever case it is, its a dam joy to watch.\", metadata={'Author': 'Dannyboi94', 'Movie_Title': 'John Wick 3', 'Rating': 8, 'Review_Date': '16 May 2019', 'Review_Title': \" Finally an action franchise than doesn't lose its touch!\\n\", 'Review_Url': '/review/rw4858493/?ref_=tt_urv', 'row': 16, 'source': 'data/john_wick_3.csv', 'relevance_score': 0.40727445}),\n",
       " Document(page_content=\": 7\\nReview: About mid-way through the film, after about 100 people had been shot, stabbed, strangled, or otherwise dispatched I started to yawn. Seriously! Is this a film or a video game? On the positive side, it was better than Chapter 2 which is equivalent to being healthier than a leper. Chapter 3 is already advertising Chapter 4 and we can only hope that we'll have stronger characters and a better plot.\", metadata={'Author': 'drjgardner', 'Movie_Title': 'John Wick 3', 'Rating': 4, 'Review_Date': '18 May 2019', 'Review_Title': ' Less is more\\n', 'Review_Url': '/review/rw4862630/?ref_=tt_urv', 'row': 7, 'source': 'data/john_wick_3.csv', 'relevance_score': 0.39035964}),\n",
       " Document(page_content=\": 1\\nReview: I'm a fan of the John Wick films. The action sequences are of the highest order and there is quite a bit that feels unique in each action scene. By half way through JW3I started to long for a plot line or a human relationship. There needs to be more to a movie than just fighting.\", metadata={'Author': 'benxrichardson', 'Movie_Title': 'John Wick 3', 'Rating': 6, 'Review_Date': '21 October 2021', 'Review_Title': ' Starting to test the friendship\\n', 'Review_Url': '/review/rw7466057/?ref_=tt_urv', 'row': 1, 'source': 'data/john_wick_3.csv', 'relevance_score': 0.3682921})]"
      ]
     },
     "execution_count": 39,
     "metadata": {},
     "output_type": "execute_result"
    }
   ],
   "source": [
    "compression_retriever.invoke(\"What are the most positive reviews?\")"
   ]
  }
 ],
 "metadata": {
  "kernelspec": {
   "display_name": "myenv",
   "language": "python",
   "name": "python3"
  },
  "language_info": {
   "codemirror_mode": {
    "name": "ipython",
    "version": 3
   },
   "file_extension": ".py",
   "mimetype": "text/x-python",
   "name": "python",
   "nbconvert_exporter": "python",
   "pygments_lexer": "ipython3",
   "version": "3.10.9"
  }
 },
 "nbformat": 4,
 "nbformat_minor": 2
}
