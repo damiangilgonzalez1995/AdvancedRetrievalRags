{
 "cells": [
  {
   "cell_type": "markdown",
   "metadata": {},
   "source": [
    "## Get local db"
   ]
  },
  {
   "cell_type": "code",
   "execution_count": 27,
   "metadata": {},
   "outputs": [],
   "source": [
    "from langchain_community.vectorstores import Chroma\n",
    "from langchain_openai import OpenAIEmbeddings\n",
    "import os\n",
    "from dotenv import load_dotenv\n",
    "\n",
    "\n",
    "\n",
    "load_dotenv()\n",
    "os.environ[\"OPENAI_API_KEY\"] = os.getenv('OPENAI_KEY')\n",
    "\n",
    "embeddings = OpenAIEmbeddings(model=\"text-embedding-3-small\")\n",
    "\n",
    "vectordb= Chroma(persist_directory=\"./jonhWick_db\", embedding_function=embeddings, collection_name=\"doc_jonhWick\")"
   ]
  },
  {
   "cell_type": "markdown",
   "metadata": {},
   "source": [
    "## We are going to do a Naive RAG.\n",
    "\n",
    "## Remember:\n",
    "\n",
    "- R -> Retrieval\n",
    "- A -> Augmented\n",
    "- G -> Generation"
   ]
  },
  {
   "cell_type": "markdown",
   "metadata": {},
   "source": [
    "# Retrieval"
   ]
  },
  {
   "cell_type": "code",
   "execution_count": 28,
   "metadata": {},
   "outputs": [],
   "source": [
    "# Specifying top k\n",
    "naive_retriever = vectordb.as_retriever(search_kwargs={ \"k\" : 10})\n",
    "\n",
    "# Similarity score threshold retrieval\n",
    "# naive_retriever = db.as_retriever(search_kwargs={\"score_threshold\": 0.8}, search_type=\"similarity_score_threshold\")\n",
    "\n",
    "# Maximum marginal relevance retrieval\n",
    "# naive_retriever = db.as_retriever(search_type=\"mmr\")"
   ]
  },
  {
   "cell_type": "markdown",
   "metadata": {},
   "source": [
    "# Augmented"
   ]
  },
  {
   "cell_type": "code",
   "execution_count": 29,
   "metadata": {},
   "outputs": [],
   "source": [
    "from langchain_core.prompts import ChatPromptTemplate\n",
    "\n",
    "TEMPLATE = \"\"\"\\\n",
    "You are happy assistant. Use the context provided below to answer the question.\n",
    "\n",
    "If you do not know the answer, or are unsure, say you don't know.\n",
    "\n",
    "Query:\n",
    "{question}\n",
    "\n",
    "Context:\n",
    "{context}\n",
    "\"\"\"\n",
    "\n",
    "rag_prompt = ChatPromptTemplate.from_template(TEMPLATE)"
   ]
  },
  {
   "cell_type": "markdown",
   "metadata": {},
   "source": [
    "# Generation"
   ]
  },
  {
   "cell_type": "code",
   "execution_count": 30,
   "metadata": {},
   "outputs": [],
   "source": [
    "from langchain_openai import ChatOpenAI\n",
    "\n",
    "chat_model = ChatOpenAI()"
   ]
  },
  {
   "cell_type": "markdown",
   "metadata": {},
   "source": [
    "## Finally, we are going to create a Rag Chain. For that, we are going to use LCEL (LangChain Expression Language)\n",
    "If you want to learn more about LCEL, check this good tutorial: https://www.youtube.com/watch?v=O0dUOtOIrfs"
   ]
  },
  {
   "cell_type": "markdown",
   "metadata": {},
   "source": [
    "### The simplest way to use LCEL"
   ]
  },
  {
   "cell_type": "code",
   "execution_count": 31,
   "metadata": {},
   "outputs": [
    {
     "data": {
      "text/plain": [
       "'Yes, people generally liked John Wick.'"
      ]
     },
     "execution_count": 31,
     "metadata": {},
     "output_type": "execute_result"
    }
   ],
   "source": [
    "from langchain_core.runnables import RunnablePassthrough, RunnableParallel\n",
    "from operator import itemgetter\n",
    "from langchain_core.output_parsers import StrOutputParser\n",
    "\n",
    "setup_and_retrieval = RunnableParallel({\"question\": RunnablePassthrough(), \"context\": naive_retriever })\n",
    "output_parser = StrOutputParser()\n",
    "\n",
    "\n",
    "naive_retrieval_chain = setup_and_retrieval | rag_prompt | chat_model | output_parser\n",
    "\n",
    "\n",
    "naive_retrieval_chain.invoke( \"Did people generally like John Wick?\")\n"
   ]
  },
  {
   "cell_type": "code",
   "execution_count": 32,
   "metadata": {},
   "outputs": [
    {
     "data": {
      "text/plain": [
       "\"I don't know.\""
      ]
     },
     "execution_count": 32,
     "metadata": {},
     "output_type": "execute_result"
    }
   ],
   "source": [
    "naive_retrieval_chain.invoke( \"What are the reviews with a score greater than 7 and say bad things about the movie?\")\n"
   ]
  },
  {
   "cell_type": "markdown",
   "metadata": {},
   "source": [
    "### A little more complex to use LCEL"
   ]
  },
  {
   "cell_type": "code",
   "execution_count": 33,
   "metadata": {},
   "outputs": [
    {
     "data": {
      "text/plain": [
       "'Yes, people generally liked John Wick based on the positive reviews provided.'"
      ]
     },
     "execution_count": 33,
     "metadata": {},
     "output_type": "execute_result"
    }
   ],
   "source": [
    "from langchain_core.runnables import RunnablePassthrough, RunnableParallel\n",
    "from operator import itemgetter\n",
    "from langchain_core.output_parsers import StrOutputParser\n",
    "\n",
    "setup_and_retrieval = RunnableParallel({\"question\": itemgetter(\"question\") |  RunnablePassthrough(), \"context\": itemgetter(\"question\") |  naive_retriever })\n",
    "output_parser = StrOutputParser()\n",
    "\n",
    "\n",
    "naive_retrieval_chain = setup_and_retrieval | rag_prompt | chat_model | output_parser\n",
    "\n",
    "\n",
    "naive_retrieval_chain.invoke({\"question\" : \"Did people generally like John Wick?\"})"
   ]
  },
  {
   "cell_type": "markdown",
   "metadata": {},
   "source": [
    "### A little X2 more complex to use LCEL"
   ]
  },
  {
   "cell_type": "code",
   "execution_count": 34,
   "metadata": {},
   "outputs": [
    {
     "data": {
      "text/plain": [
       "'Yes, people generally like John Wick.'"
      ]
     },
     "execution_count": 34,
     "metadata": {},
     "output_type": "execute_result"
    }
   ],
   "source": [
    "from langchain_core.runnables import RunnablePassthrough, RunnableParallel\n",
    "from operator import itemgetter\n",
    "from langchain_core.output_parsers import StrOutputParser\n",
    "\n",
    "setup_and_retrieval = RunnableParallel({\"question\": itemgetter(\"question\") |  RunnablePassthrough(), \"context\": itemgetter(\"question\") }) | RunnablePassthrough.assign(context=itemgetter(\"context\"))\n",
    "output_parser = StrOutputParser()\n",
    "\n",
    "\n",
    "naive_retrieval_chain = setup_and_retrieval | rag_prompt | chat_model | output_parser\n",
    "\n",
    "\n",
    "naive_retrieval_chain.invoke({\"question\" : \"Did people generally like John Wick?\"})"
   ]
  },
  {
   "cell_type": "markdown",
   "metadata": {},
   "source": [
    "### A little X3 more complex to use LCEL"
   ]
  },
  {
   "cell_type": "code",
   "execution_count": 35,
   "metadata": {},
   "outputs": [
    {
     "data": {
      "text/plain": [
       "{'response': AIMessage(content='Yes, people generally liked John Wick based on the positive reviews provided.', response_metadata={'token_usage': {'completion_tokens': 14, 'prompt_tokens': 3203, 'total_tokens': 3217}, 'model_name': 'gpt-3.5-turbo', 'system_fingerprint': 'fp_c2295e73ad', 'finish_reason': 'stop', 'logprobs': None}, id='run-90f78604-e2e8-465a-8976-dc87d18598fc-0'),\n",
       " 'context': [Document(page_content=\": 9\\nReview: At first glance, John Wick sounds like a terrible film on paper but with the slickness of Keanu Reeves' performance as the titular character and the sheer brilliance in its action sequences, this marks the best action film of the year and one of the absolute best in the past decade. Following a brutal home invasion that leaves his beloved dog murdered by thugs from his past, John Wick vows revenge on the ones who have taken what he loves most. Like I said, on paper, this seems like a direct-to-DVD slopfest starring John Cena but as a film with Keanu Reeves as the lead, it marks the very welcomed return for Reeves to the genre. John Wick is insanely fun, violently brutal and an overall romp especially for those disappointed by The Expendables 3. John Wick is propelled by Tarantino-esque dialog mixed with the swagger of action stars from the 70s. Reeves literally emulates cool in this film and does it with such confidence, that we don't even doubt the character...even when he kills countless bad guys with extreme force in some utterly ridiculous and implausible situations. We don't doubt it for a minute. This is EXACTLY what you want out of an action film. It is briskly paced, brilliantly shot and meticulously choreographed and keeps you wanting more and more. The supporting cast filled with the likes of John Legiuzamo, Ian McShane, and Willen Dafoe also keeps this film very interesting. These guys don't play good guys, hell, John Wick by traditional standards would be a bad guy in any other film. Every character is more ruthless than the next and pushes John Wick to be more ruthless than they are, creating a very cool dynamic between the character and the plot regarding the idea of how far is too far? However, don't expect some revelation from John Wick regarding the morality of bad and evil. This film wants you entertained and does so with brute force, it never lets up, not even for a second. One scene in particular that will have your blood pumping is a showdown between thugs and Wick in a nightclub. This action sequence remains the best in the film and will have you grasping your theater seat because of the sheer intensity of it. Overall, John Wick is slick, violent fun that turns into a remarkable, surprising film that will catch you off guard. It is THAT good. I highly recommend this film to action buffs especially but I'm sure those who just like a good movie will love it as well.\", metadata={'Author': 'trublu215', 'Movie_Title': 'John Wick 1', 'Rating': 9, 'Review_Date': '20 October 2014', 'Review_Title': \" The coolest action film you'll see all year\\n\", 'Review_Url': '/review/rw3107759/?ref_=tt_urv', 'row': 9, 'source': 'data/john_wick_1.csv'}),\n",
       "  Document(page_content=\": 20\\nReview: John Wick is something special. It takes as much time setting up elaborate action sequences as it does the world with which it all takes place in. And what a world it is. It reminds me of Millers Crossing and it is cooler than any other recent attempt at noir. We are shown a criminal underworld where, if you are connected, many powerful people know who you are and show you respect. John Wick was connected but he got out. He is the rare killer who has found peace, and he is grateful for that peace. Some young kids steal that from him and he does what he does best, he wages a one man war against the Russian Mafia. It might sound like the film takes quite a leap but it all makes sense. The motives of John and the people who get in the way of his bullets are all very clear, even if it does come across as rather simple. That's the plot at it's most basic. Then there's the action. The film is directed by Reeve's stuntman from The Matrix, so this guy knows action. There are sequences that flow so smoothly it puts other action films and their quick cuts to shame. Keaunu moves so fluidly throughout the film and comes across as such a natural that the only disappointment is that we have not seen him like this before. Along the way are plenty of character actors, fans of The Matrix and The Wire will recognize a few people then there are more obvious ones like Ian McShane and Willem Dafoe. Everyone seems to be having a good time. That is another plus for this movie. It get's dark at times but overall it is quite fun, not very chipper, but fun. I cannot recommend this movie enough. I believe it is a must see for action fans and for anyone looking for something a bit different from the usual fare.\", metadata={'Author': 'IceSkateUpHill', 'Movie_Title': 'John Wick 1', 'Rating': 10, 'Review_Date': '22 October 2014', 'Review_Title': ' Smoothest action film to come around in a long time\\n', 'Review_Url': '/review/rw3109271/?ref_=tt_urv', 'row': 20, 'source': 'data/john_wick_1.csv'}),\n",
       "  Document(page_content=': 5\\nReview: The first John Wick film was special because it broke a mold of sorts. It went against certain action film conventions - the hero was not a muscle bound hulk like a Schwarzenegger or Stallone, the action was super fast paced, the plot was basic and straighforward, but introduced some unique elements, and there was something a bit unique and stylish about the film. John Wick was cool.', metadata={'Author': 'soundoflight', 'Movie_Title': 'John Wick 3', 'Rating': 5, 'Review_Date': '17 July 2019', 'Review_Title': ' The magic is gone\\n', 'Review_Url': '/review/rw4999970/?ref_=tt_urv', 'row': 5, 'source': 'data/john_wick_3.csv'}),\n",
       "  Document(page_content=\": 0\\nReview: The best way I can describe John Wick is to picture Taken but instead of Liam Neeson it's Keanu Reeves and instead of his daughter it's his dog. That's essentially the plot of the movie. John Wick (Reeves) is out to seek revenge on the people who took something he loved from him. It's a beautifully simple premise for an action movie - when action movies get convoluted, they get bad i.e. A Good Day to Die Hard. John Wick gives the viewers what they want: Awesome action, stylish stunts, kinetic chaos, and a relatable hero to tie it all together. John Wick succeeds in its simplicity.\", metadata={'Author': 'lnvicta', 'Movie_Title': 'John Wick 1', 'Rating': 8, 'Review_Date': '6 May 2015', 'Review_Title': ' Kinetic, concise, and stylish; John Wick kicks ass.\\n', 'Review_Url': '/review/rw3233896/?ref_=tt_urv', 'row': 0, 'source': 'data/john_wick_1.csv'}),\n",
       "  Document(page_content=\": 6\\nReview: In 2014, a Keanu Reeves revenge thriller John Wick became a surprise hit. I originally skipped out on the film as I felt that the trailers only showed an assassin story that I felt I've seen before. As far as I'm concerned, I made a big mistake. Before seeing the sequel, I felt it was important to watch the first one. I rented it on Amazon Prime and I was shock by what I saw; a dark, stylish, and fun action movie that is doing it's own thing. Though I've seen plenty stories about revenge (The Count of Monte Cristo and Moby Dick being the prime examples), I can't recall one over someone's pet being murdered.\", metadata={'Author': 'RforFilm', 'Movie_Title': 'John Wick 2', 'Rating': 8, 'Review_Date': '14 February 2017', 'Review_Title': \" John Wick: Chapter 2 continues it's faced paced, neo-noir story of our assassin\\n\", 'Review_Url': '/review/rw3639868/?ref_=tt_urv', 'row': 6, 'source': 'data/john_wick_2.csv'}),\n",
       "  Document(page_content=': 2\\nReview: With the fourth installment scoring immensely at the cinemas as I\\'m submitting this review, and after three previous films that are apparently loved by everyone else in the world, I thought perhaps it would be time for me check out \"John Wick\".', metadata={'Author': 'Coventry', 'Movie_Title': 'John Wick 1', 'Rating': 5, 'Review_Date': '5 May 2023', 'Review_Title': \" You don't mess with another person's dog. It's as simple as that!\\n\", 'Review_Url': '/review/rw9033669/?ref_=tt_urv', 'row': 2, 'source': 'data/john_wick_1.csv'}),\n",
       "  Document(page_content=\": 5\\nReview: Ultra-violent first entry with lots of killings, thrills , noisy action , suspense , and crossfire . In this original John Wick (2014) , an ex-hit-man comes out of retirement to track down the gangsters that killed his dog and took everything from him . With the untimely death of his beloved wife still bitter in his mouth he seeks for vengeance . But when an arrogant Russian mob prince and hoodlums steal his car and kill his dog , they are fully aware of his lethal capacity. The Bogeyman will find himself dragged into an impossible task as every killer in the business dreams of cornering the legendary Wick who now has an enormous price on his head . In this first installment John Wick , blind with revenge, and for his salvation John will immediately unleash a carefully orchestrated maelstrom of destruction against those attempt to chase him and with a price tag on his head, as he is the target of hit men : an army of bounty-hunting killers on his trail and a murderer woman everywhere . The legendary hitman will be forced to unearth his meticulously concealed identity and to carry out a relentless vendetta . Now, only blood can quench the boogeyman's thirst for retribution . Don't Set Him Off! . John Wick isn't the Boogeyman... He's the guy you send to kill the doomed Boogeyman. Revenge is all he has left. You want peace, prepare for war . Don't Hunt What You Can't Kill. Tick Tock, Mr. Wick. Everyone Is Waiting. For John Wick . Every Action Has Consequences. This Friday, Wick is Back . Its the World Vs. Wick. Every Action Has Consequences.\", metadata={'Author': 'ma-cortes', 'Movie_Title': 'John Wick 1', 'Rating': 7, 'Review_Date': '23 March 2023', 'Review_Title': ' Violent and gripping story with plenty of unstopped action , shootouts and breathtaking fights\\n', 'Review_Url': '/review/rw8945545/?ref_=tt_urv', 'row': 5, 'source': 'data/john_wick_1.csv'}),\n",
       "  Document(page_content=': 19\\nReview: I really don\\'t understand the love that \"John Wick\" receives. It\\'s just kind of a generic action thriller to me. No different than a \"Bourne\" or \"Taken\" movie. It gets a slight bump for me in a rating of 6 instead of 5 because I did think that the cinematography was really good and also the fight choreography was top notch. I can definitely see the influence of martial arts films on this.', metadata={'Author': 'xiaoli7377', 'Movie_Title': 'John Wick 1', 'Rating': 6, 'Review_Date': '14 April 2023', 'Review_Title': \" I Don't Get It\\n\", 'Review_Url': '/review/rw8991670/?ref_=tt_urv', 'row': 19, 'source': 'data/john_wick_1.csv'}),\n",
       "  Document(page_content=': 0\\nReview: It is 5 years since the first John Wick film - one that took me by surprise by how silly it was as a narrative, but yet how well it delivered action sequences. The second film was only 2 years ago, and it raised the stakes and went from a man seeking revenge on another group of people, into one where the world was filled with assassins, popping up from everywhere all the time. I remember ending that film feeling like it had gone too far but that the third would probably do more of that. True enough, Parabellum (\"prepare for war\") sees the whole world filled with assassins, and a huge administrative system around them - but yet the whole lot of them can\\'t seem to cause John Wick too much trouble. As with the first film, this expands the world more than it can bear, and although it looks cool at times, the world makes no sense whatsoever and it hurts the film the more it relies on it (which it does as it expands it).', metadata={'Author': 'bob the moo', 'Movie_Title': 'John Wick 3', 'Rating': 5, 'Review_Date': '22 September 2019', 'Review_Title': ' Enjoyably choreographed, but the lack of consequence combined with the global scale robs it of urgency and means it outstays its welcome a bit\\n', 'Review_Url': '/review/rw5136960/?ref_=tt_urv', 'row': 0, 'source': 'data/john_wick_3.csv'}),\n",
       "  Document(page_content=': 17\\nReview: There are actually quite a handful reasons why \"John Wick\" could have become a failure. The two directors have never made a film before and almost exclusively worked in the stunt department so far. The writer is not exactly experienced either. Lead actor Keanu Reeves usually scores more through boyish charm than through realistic portrayal of gritty badass characters. And the genre of crime action thrillers rarely delivers in terms of real significance. Still it became a very good film. The main reason for that is probably that it does not attempt to be anything of great cinematic value, does not try to teach groundbreaking stories on moral, loyalty or betrayal. Instead, Derek Kolstad\\'s script goes for a gutsy revenge thriller that is not even hurt by its occasional predictability.', metadata={'Author': 'Horst_In_Translation', 'Movie_Title': 'John Wick 1', 'Rating': 8, 'Review_Date': '27 February 2016', 'Review_Title': ' The man who kills the Boogeyman\\n', 'Review_Url': '/review/rw3422991/?ref_=tt_urv', 'row': 17, 'source': 'data/john_wick_1.csv'})]}"
      ]
     },
     "execution_count": 35,
     "metadata": {},
     "output_type": "execute_result"
    }
   ],
   "source": [
    "from langchain_core.runnables import RunnablePassthrough, RunnableParallel\n",
    "from operator import itemgetter\n",
    "\n",
    "setup_and_retrieval = RunnableParallel({\"question\": itemgetter(\"question\") |  RunnablePassthrough(), \"context\": itemgetter(\"question\") | naive_retriever }) | RunnablePassthrough.assign(context=itemgetter(\"context\"))\n",
    "\n",
    "naive_retrieval_chain = setup_and_retrieval | {\"response\": rag_prompt | chat_model, \"context\": itemgetter(\"context\")}\n",
    "\n",
    "\n",
    "naive_retrieval_chain.invoke({\"question\" : \"Did people generally like John Wick?\"})"
   ]
  },
  {
   "cell_type": "code",
   "execution_count": 36,
   "metadata": {},
   "outputs": [
    {
     "data": {
      "text/plain": [
       "{'response': AIMessage(content=\"I don't know.\", response_metadata={'token_usage': {'completion_tokens': 5, 'prompt_tokens': 2541, 'total_tokens': 2546}, 'model_name': 'gpt-3.5-turbo', 'system_fingerprint': 'fp_c2295e73ad', 'finish_reason': 'stop', 'logprobs': None}, id='run-355bd85c-466a-408e-9dca-9c556b44ed88-0'),\n",
       " 'context': [Document(page_content=': 11\\nReview: The overrated \"John Wick: Chapter 3 - Parabellum\" is an action film that gives the sensation of watching a boring videogame. The plot is only John Wick running and killing the assassins that want the 14 million dollar award for his head. After the initial original deaths, the film becomes tiresome, boring and repetitive. My vote is three.', metadata={'Author': 'claudio_carvalho', 'Movie_Title': 'John Wick 3', 'Rating': 3, 'Review_Date': '1 September 2019', 'Review_Title': ' Gives the Sensation of Watching a Boring Videogame\\n', 'Review_Url': '/review/rw5093352/?ref_=tt_urv', 'row': 11, 'source': 'data/john_wick_3.csv'}),\n",
       "  Document(page_content=': 7\\nReview: This review of John Wick: Chapter 2 is spoiler free', metadata={'Author': 'coreyjdenford', 'Movie_Title': 'John Wick 2', 'Rating': 8, 'Review_Date': '17 February 2017', 'Review_Title': \" He's Bloody Back\\n\", 'Review_Url': '/review/rw3641212/?ref_=tt_urv', 'row': 7, 'source': 'data/john_wick_2.csv'}),\n",
       "  Document(page_content=': 19\\nReview: I really don\\'t understand the love that \"John Wick\" receives. It\\'s just kind of a generic action thriller to me. No different than a \"Bourne\" or \"Taken\" movie. It gets a slight bump for me in a rating of 6 instead of 5 because I did think that the cinematography was really good and also the fight choreography was top notch. I can definitely see the influence of martial arts films on this.', metadata={'Author': 'xiaoli7377', 'Movie_Title': 'John Wick 1', 'Rating': 6, 'Review_Date': '14 April 2023', 'Review_Title': \" I Don't Get It\\n\", 'Review_Url': '/review/rw8991670/?ref_=tt_urv', 'row': 19, 'source': 'data/john_wick_1.csv'}),\n",
       "  Document(page_content=\": 1\\nReview: I'm a fan of the John Wick films. The action sequences are of the highest order and there is quite a bit that feels unique in each action scene. By half way through JW3I started to long for a plot line or a human relationship. There needs to be more to a movie than just fighting.\", metadata={'Author': 'benxrichardson', 'Movie_Title': 'John Wick 3', 'Rating': 6, 'Review_Date': '21 October 2021', 'Review_Title': ' Starting to test the friendship\\n', 'Review_Url': '/review/rw7466057/?ref_=tt_urv', 'row': 1, 'source': 'data/john_wick_3.csv'}),\n",
       "  Document(page_content=\": 9\\nReview: At first glance, John Wick sounds like a terrible film on paper but with the slickness of Keanu Reeves' performance as the titular character and the sheer brilliance in its action sequences, this marks the best action film of the year and one of the absolute best in the past decade. Following a brutal home invasion that leaves his beloved dog murdered by thugs from his past, John Wick vows revenge on the ones who have taken what he loves most. Like I said, on paper, this seems like a direct-to-DVD slopfest starring John Cena but as a film with Keanu Reeves as the lead, it marks the very welcomed return for Reeves to the genre. John Wick is insanely fun, violently brutal and an overall romp especially for those disappointed by The Expendables 3. John Wick is propelled by Tarantino-esque dialog mixed with the swagger of action stars from the 70s. Reeves literally emulates cool in this film and does it with such confidence, that we don't even doubt the character...even when he kills countless bad guys with extreme force in some utterly ridiculous and implausible situations. We don't doubt it for a minute. This is EXACTLY what you want out of an action film. It is briskly paced, brilliantly shot and meticulously choreographed and keeps you wanting more and more. The supporting cast filled with the likes of John Legiuzamo, Ian McShane, and Willen Dafoe also keeps this film very interesting. These guys don't play good guys, hell, John Wick by traditional standards would be a bad guy in any other film. Every character is more ruthless than the next and pushes John Wick to be more ruthless than they are, creating a very cool dynamic between the character and the plot regarding the idea of how far is too far? However, don't expect some revelation from John Wick regarding the morality of bad and evil. This film wants you entertained and does so with brute force, it never lets up, not even for a second. One scene in particular that will have your blood pumping is a showdown between thugs and Wick in a nightclub. This action sequence remains the best in the film and will have you grasping your theater seat because of the sheer intensity of it. Overall, John Wick is slick, violent fun that turns into a remarkable, surprising film that will catch you off guard. It is THAT good. I highly recommend this film to action buffs especially but I'm sure those who just like a good movie will love it as well.\", metadata={'Author': 'trublu215', 'Movie_Title': 'John Wick 1', 'Rating': 9, 'Review_Date': '20 October 2014', 'Review_Title': \" The coolest action film you'll see all year\\n\", 'Review_Url': '/review/rw3107759/?ref_=tt_urv', 'row': 9, 'source': 'data/john_wick_1.csv'}),\n",
       "  Document(page_content=\": 20\\nReview: Sadly the third John Wick film has deteriorated into a mindless, plotless, overly violent action scene that lasts for 2 hours. Zero plot, typical anti-male female characters, ridiculous levels of gore beyond what is needed. It's a clear indication that either the population is getting dumber that we have so many 10/10 reviews for this movie, or people are being paid to post positive reviews.\", metadata={'Author': 'janetwilkinson', 'Movie_Title': 'John Wick 3', 'Rating': 1, 'Review_Date': '13 July 2019', 'Review_Title': ' Boring Dull and full of Stereotypes\\n', 'Review_Url': '/review/rw4993039/?ref_=tt_urv', 'row': 20, 'source': 'data/john_wick_3.csv'}),\n",
       "  Document(page_content=': 3\\nReview: John wick has a very simple revenge story. It can be summarized as \"Keanu gets angry and shoots bad guys\" but what makes it special? Directed by Chad Stahelski who\\'s a stunt specialist boy does it show because the main selling point in the film are some real virtuoso action sequences, well made choreographies. Unlike today\\'s action movies, it doesn\\'t use quick-cuts or shaky cameras actually see what\\'s going on.', metadata={'Author': 'Kitsfi', 'Movie_Title': 'John Wick 1', 'Rating': 8, 'Review_Date': '28 September 2018', 'Review_Title': ' Keanu gets pissed and shoots people in the face for 101 minutes*\\n', 'Review_Url': '/review/rw4366368/?ref_=tt_urv', 'row': 3, 'source': 'data/john_wick_1.csv'}),\n",
       "  Document(page_content=\": 8\\nReview: It's hard to find anything bad to say about John Wick. The action is beautifully choreographed, the setup is surprisingly emotional for an action flick, and Keanu.... What more is there to say? If you love action or even just like it you will be in for the ride of your life.\", metadata={'Author': 'MrHeraclius', 'Movie_Title': 'John Wick 1', 'Rating': 5, 'Review_Date': '23 February 2020', 'Review_Title': ' love this movie highly recommend\\n', 'Review_Url': '/review/rw5503708/?ref_=tt_urv', 'row': 8, 'source': 'data/john_wick_1.csv'}),\n",
       "  Document(page_content=\": 6\\nReview: John Wick is one of those few movies a year that seemed like it would be absolutely terrible, but when you finally sit down and watch it, turns out to be incredible. Not only is it one of the most fun films of the year, but it's so much different than the action films we have today. It doesn't try to be inventive or over-the-top, it just plays to it's strengths.\", metadata={'Author': 'ThomasDrufke', 'Movie_Title': 'John Wick 1', 'Rating': 8, 'Review_Date': '24 February 2015', 'Review_Title': \" I'm Thinking I'm Back\\n\", 'Review_Url': '/review/rw3191151/?ref_=tt_urv', 'row': 6, 'source': 'data/john_wick_1.csv'}),\n",
       "  Document(page_content=\": 20\\nReview: John Wick is something special. It takes as much time setting up elaborate action sequences as it does the world with which it all takes place in. And what a world it is. It reminds me of Millers Crossing and it is cooler than any other recent attempt at noir. We are shown a criminal underworld where, if you are connected, many powerful people know who you are and show you respect. John Wick was connected but he got out. He is the rare killer who has found peace, and he is grateful for that peace. Some young kids steal that from him and he does what he does best, he wages a one man war against the Russian Mafia. It might sound like the film takes quite a leap but it all makes sense. The motives of John and the people who get in the way of his bullets are all very clear, even if it does come across as rather simple. That's the plot at it's most basic. Then there's the action. The film is directed by Reeve's stuntman from The Matrix, so this guy knows action. There are sequences that flow so smoothly it puts other action films and their quick cuts to shame. Keaunu moves so fluidly throughout the film and comes across as such a natural that the only disappointment is that we have not seen him like this before. Along the way are plenty of character actors, fans of The Matrix and The Wire will recognize a few people then there are more obvious ones like Ian McShane and Willem Dafoe. Everyone seems to be having a good time. That is another plus for this movie. It get's dark at times but overall it is quite fun, not very chipper, but fun. I cannot recommend this movie enough. I believe it is a must see for action fans and for anyone looking for something a bit different from the usual fare.\", metadata={'Author': 'IceSkateUpHill', 'Movie_Title': 'John Wick 1', 'Rating': 10, 'Review_Date': '22 October 2014', 'Review_Title': ' Smoothest action film to come around in a long time\\n', 'Review_Url': '/review/rw3109271/?ref_=tt_urv', 'row': 20, 'source': 'data/john_wick_1.csv'})]}"
      ]
     },
     "execution_count": 36,
     "metadata": {},
     "output_type": "execute_result"
    }
   ],
   "source": [
    "naive_retrieval_chain.invoke({\"question\" : \"Make a summary of the reviews that talk about John Wick 3 and have a score higher than 7\"})"
   ]
  }
 ],
 "metadata": {
  "kernelspec": {
   "display_name": "myenv",
   "language": "python",
   "name": "python3"
  },
  "language_info": {
   "codemirror_mode": {
    "name": "ipython",
    "version": 3
   },
   "file_extension": ".py",
   "mimetype": "text/x-python",
   "name": "python",
   "nbconvert_exporter": "python",
   "pygments_lexer": "ipython3",
   "version": "3.10.9"
  }
 },
 "nbformat": 4,
 "nbformat_minor": 2
}
